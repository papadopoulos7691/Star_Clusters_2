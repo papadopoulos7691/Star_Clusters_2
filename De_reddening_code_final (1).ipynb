{
 "cells": [
  {
   "cell_type": "code",
   "execution_count": 610,
   "metadata": {},
   "outputs": [],
   "source": [
    "import numpy as np\n",
    "import math\n",
    "import sys\n",
    "from scipy.integrate import quad\n",
    "from astropy.io import fits\n",
    "import astropy.units as u\n",
    "import matplotlib.pyplot as plt\n",
    "\n",
    "from astropy.table import QTable\n",
    "from astropy.table import Table, join, vstack, hstack\n",
    "from astropy.table import Column\n",
    "\n",
    "# open catalogues\n",
    "M52 = fits.open('M52_Members.fits')\n",
    "main_seq = fits.open('main_seq.fits')\n",
    "\n",
    "# create tables \n",
    "M52_tab = Table(M52[1].data)\n",
    "ms_tab = Table(main_seq[1].data)\n",
    "\n",
    "N = len(ms_tab)\n",
    "\n",
    "card_ratio = 0.7192 # slope of dereddening vector \n",
    "card = 3.1 # cardelli ratio \n"
   ]
  },
  {
   "cell_type": "code",
   "execution_count": 612,
   "metadata": {},
   "outputs": [],
   "source": [
    "# rename columns to help analysis\n",
    "# for NGC cat\n",
    "M52_tab.rename_column('Vmag', 'V')\n",
    "M52_tab.rename_column('Verr', 'V_err')\n",
    "M52_tab.rename_column('Berr', 'B_err')\n",
    "M52_tab.rename_column('Uerr', 'U_err')\n",
    "\n",
    "# for M52 cat\n",
    "# M52_tab.rename_column('col6', 'V')\n",
    "# M52_tab.rename_column('col7', 'V_err')\n",
    "# M52_tab.rename_column('col9', 'B_err')\n",
    "# M52_tab.rename_column('col11', 'U_err')\n",
    "# M52_tab.rename_column('col12', 'B-V')\n",
    "# M52_tab.rename_column('col13', 'U-B')\n",
    "\n",
    "ms_tab.rename_column('col2', 'U-B')\n",
    "ms_tab.rename_column('col3', 'B-V')"
   ]
  },
  {
   "cell_type": "code",
   "execution_count": 613,
   "metadata": {},
   "outputs": [
    {
     "data": {
      "text/html": [
       "<i>Table length=248</i>\n",
       "<table id=\"table4873930496\" class=\"table-striped table-bordered table-condensed\">\n",
       "<thead><tr><th>ID</th><th>RA</th><th>Dec</th><th>X</th><th>Y</th><th>V</th><th>V_err</th><th>Bmag</th><th>B_err</th><th>Umag</th><th>U_err</th><th>B-V</th><th>U-B</th><th>pmra</th><th>pmra_error</th><th>pmdec</th><th>pmdec_error</th></tr></thead>\n",
       "<thead><tr><th>float64</th><th>float64</th><th>float64</th><th>float64</th><th>float64</th><th>float64</th><th>float64</th><th>float64</th><th>float64</th><th>float64</th><th>float64</th><th>float64</th><th>float64</th><th>float64</th><th>float32</th><th>float64</th><th>float32</th></tr></thead>\n",
       "<tr><td>132.0</td><td>351.0574734</td><td>61.7945144</td><td>1452.0502</td><td>460.099</td><td>15.3796</td><td>0.0798</td><td>16.1451</td><td>0.1191</td><td>16.6979</td><td>0.4899</td><td>0.7654999999999994</td><td>0.5528000000000013</td><td>-2.0066899564064817</td><td>0.022752097</td><td>-1.1705327724843213</td><td>0.021377759</td></tr>\n",
       "<tr><td>137.0</td><td>351.1770126</td><td>61.7929052</td><td>1883.6274</td><td>475.24</td><td>15.0994</td><td>0.0696</td><td>15.9799</td><td>0.1101</td><td>16.3311</td><td>0.4142</td><td>0.8805000000000014</td><td>0.3511999999999986</td><td>-1.7584562649138935</td><td>0.021742484</td><td>-1.2414869290684258</td><td>0.020704474</td></tr>\n",
       "<tr><td>188.0</td><td>351.295117</td><td>61.7693594</td><td>2309.4133</td><td>657.1417</td><td>15.9135</td><td>0.1031</td><td>16.8165</td><td>0.1637</td><td>16.8636</td><td>0.5272</td><td>0.9030000000000005</td><td>0.047100000000000364</td><td>-1.8636025603881132</td><td>0.029590739</td><td>-1.3099663907150492</td><td>0.02532734</td></tr>\n",
       "<tr><td>201.0</td><td>350.8277322</td><td>61.7610946</td><td>619.6464</td><td>707.6782</td><td>14.2539</td><td>0.0467</td><td>14.9837</td><td>0.069</td><td>15.3152</td><td>0.2587</td><td>0.7298000000000009</td><td>0.33150000000000013</td><td>-2.010506070488098</td><td>0.01421905</td><td>-1.2548792165646532</td><td>0.013385017</td></tr>\n",
       "<tr><td>249.0</td><td>351.0533506</td><td>61.741879</td><td>1434.0909</td><td>862.0598</td><td>14.9951</td><td>0.0663</td><td>15.9161</td><td>0.1069</td><td>16.3852</td><td>0.4243</td><td>0.9209999999999994</td><td>0.46910000000000096</td><td>-2.1069473927594293</td><td>0.03784155</td><td>-1.1854112908061594</td><td>0.035095297</td></tr>\n",
       "<tr><td>261.0</td><td>351.5973789</td><td>61.7405273</td><td>3401.9268</td><td>879.0723</td><td>15.7421</td><td>0.095</td><td>16.51</td><td>0.1418</td><td>15.5039</td><td>0.2823</td><td>0.7679000000000009</td><td>-1.0061000000000018</td><td>-1.9435836620897886</td><td>0.024805441</td><td>-1.1544232895364903</td><td>0.02043835</td></tr>\n",
       "<tr><td>280.0</td><td>351.3755942</td><td>61.731579</td><td>2599.4746</td><td>946.6888</td><td>14.885</td><td>0.0628</td><td>15.555</td><td>0.0902</td><td>15.9558</td><td>0.3479</td><td>0.6699999999999999</td><td>0.40080000000000027</td><td>-2.0036891107638057</td><td>0.023700006</td><td>-1.1336259133543856</td><td>0.02015669</td></tr>\n",
       "<tr><td>304.0</td><td>351.2432083</td><td>61.7219721</td><td>2120.1089</td><td>1018.3303</td><td>14.9353</td><td>0.0645</td><td>15.7324</td><td>0.0981</td><td>15.795</td><td>0.323</td><td>0.7971000000000004</td><td>0.06259999999999977</td><td>-2.051847296346958</td><td>0.020136353</td><td>-1.055515044634115</td><td>0.017630676</td></tr>\n",
       "<tr><td>310.0</td><td>351.0558943</td><td>61.7206124</td><td>1442.057</td><td>1024.5804</td><td>15.2431</td><td>0.0752</td><td>16.1265</td><td>0.1184</td><td>16.6633</td><td>0.4818</td><td>0.8834</td><td>0.5367999999999995</td><td>-2.4229293885640515</td><td>0.024138188</td><td>-1.0457233864027025</td><td>0.022414934</td></tr>\n",
       "<tr><td>335.0</td><td>351.2820431</td><td>61.7107736</td><td>2260.3171</td><td>1104.4879</td><td>13.8607</td><td>0.0388</td><td>14.5634</td><td>0.0568</td><td>14.606</td><td>0.1864</td><td>0.7027000000000001</td><td>0.04260000000000019</td><td>-1.7934553317076731</td><td>0.015166311</td><td>-1.296511724319572</td><td>0.013329832</td></tr>\n",
       "<tr><td>...</td><td>...</td><td>...</td><td>...</td><td>...</td><td>...</td><td>...</td><td>...</td><td>...</td><td>...</td><td>...</td><td>...</td><td>...</td><td>...</td><td>...</td><td>...</td><td>...</td></tr>\n",
       "<tr><td>1834.0</td><td>351.0454626</td><td>61.3932534</td><td>1384.8903</td><td>3524.9053</td><td>14.9292</td><td>0.0641</td><td>15.6115</td><td>0.0925</td><td>16.7727</td><td>0.5055</td><td>0.6822999999999997</td><td>1.161200000000001</td><td>-1.8053180429586488</td><td>0.017818207</td><td>-1.1821463586847083</td><td>0.015914153</td></tr>\n",
       "<tr><td>1835.0</td><td>350.9694818</td><td>61.4029372</td><td>1107.6163</td><td>3448.6357</td><td>13.6911</td><td>0.0359</td><td>14.2552</td><td>0.0492</td><td>14.368</td><td>0.167</td><td>0.5640999999999998</td><td>0.11280000000000001</td><td>-1.807257256362309</td><td>0.015518773</td><td>-1.1863000722742907</td><td>0.014334914</td></tr>\n",
       "<tr><td>1862.0</td><td>350.9344812</td><td>61.4357838</td><td>982.0013</td><td>3196.564</td><td>13.8855</td><td>0.0393</td><td>14.4685</td><td>0.0543</td><td>14.382</td><td>0.1681</td><td>0.5830000000000002</td><td>-0.08650000000000091</td><td>-2.2835063844818255</td><td>0.0129343</td><td>-0.9917475940733784</td><td>0.011913075</td></tr>\n",
       "<tr><td>1878.0</td><td>351.0576751</td><td>61.4063961</td><td>1430.3235</td><td>3424.8499</td><td>14.8706</td><td>0.0625</td><td>15.5212</td><td>0.0888</td><td>15.9636</td><td>0.3492</td><td>0.6506000000000007</td><td>0.44239999999999924</td><td>-2.0761362838148103</td><td>0.017243782</td><td>-1.1593666037924515</td><td>0.015974792</td></tr>\n",
       "<tr><td>1897.0</td><td>351.3025675</td><td>61.4198763</td><td>2326.1538</td><td>3326.9097</td><td>12.5924</td><td>0.0216</td><td>13.0592</td><td>0.0283</td><td>14.7687</td><td>0.2011</td><td>0.466800000000001</td><td>1.7095000000000002</td><td>-1.8384684975394832</td><td>0.017672477</td><td>-1.373716462799469</td><td>0.01587165</td></tr>\n",
       "<tr><td>1910.0</td><td>350.9415864</td><td>61.4209635</td><td>1006.8969</td><td>3310.0139</td><td>15.1732</td><td>0.0721</td><td>15.8439</td><td>0.1035</td><td>16.2517</td><td>0.3989</td><td>0.6707000000000001</td><td>0.40779999999999994</td><td>-1.8293452616696397</td><td>0.019683179</td><td>-1.256616199559404</td><td>0.018310662</td></tr>\n",
       "<tr><td>1931.0</td><td>351.1714931</td><td>61.4440155</td><td>1848.1663</td><td>3140.238</td><td>14.3933</td><td>0.0499</td><td>15.0144</td><td>0.0701</td><td>15.3274</td><td>0.2602</td><td>0.6211000000000002</td><td>0.3130000000000006</td><td>-2.0152334721576204</td><td>0.015182633</td><td>-1.1622230783023615</td><td>0.014495365</td></tr>\n",
       "<tr><td>1933.0</td><td>351.3834216</td><td>61.4292011</td><td>2621.8511</td><td>3256.6013</td><td>14.9548</td><td>0.065</td><td>18.4865</td><td>0.3484</td><td>15.8375</td><td>0.3296</td><td>3.531699999999999</td><td>-2.648999999999999</td><td>-2.6446722576851505</td><td>0.01803668</td><td>-1.1959750893500036</td><td>0.015828477</td></tr>\n",
       "<tr><td>1952.0</td><td>351.1930843</td><td>61.4376684</td><td>1926.7521</td><td>3189.1636</td><td>11.7623</td><td>0.0147</td><td>12.2734</td><td>0.0197</td><td>12.1496</td><td>0.0601</td><td>0.5111000000000008</td><td>-0.12380000000000102</td><td>-1.908611027863919</td><td>0.013917685</td><td>-1.1732445325667935</td><td>0.013083515</td></tr>\n",
       "<tr><td>1978.0</td><td>350.9990066</td><td>61.4518107</td><td>1218.7468</td><td>3076.2354</td><td>14.9797</td><td>0.0657</td><td>15.7161</td><td>0.0972</td><td>16.0704</td><td>0.3669</td><td>0.7364000000000015</td><td>0.3542999999999985</td><td>-1.870749398685282</td><td>0.01913763</td><td>-1.2129767933947573</td><td>0.017594568</td></tr>\n",
       "</table>"
      ],
      "text/plain": [
       "<Table length=248>\n",
       "   ID        RA        Dec     ...  pmra_error        pmdec        pmdec_error\n",
       "float64   float64    float64   ...   float32         float64         float32  \n",
       "------- ----------- ---------- ... ----------- ------------------- -----------\n",
       "  132.0 351.0574734 61.7945144 ... 0.022752097 -1.1705327724843213 0.021377759\n",
       "  137.0 351.1770126 61.7929052 ... 0.021742484 -1.2414869290684258 0.020704474\n",
       "  188.0  351.295117 61.7693594 ... 0.029590739 -1.3099663907150492  0.02532734\n",
       "  201.0 350.8277322 61.7610946 ...  0.01421905 -1.2548792165646532 0.013385017\n",
       "  249.0 351.0533506  61.741879 ...  0.03784155 -1.1854112908061594 0.035095297\n",
       "  261.0 351.5973789 61.7405273 ... 0.024805441 -1.1544232895364903  0.02043835\n",
       "  280.0 351.3755942  61.731579 ... 0.023700006 -1.1336259133543856  0.02015669\n",
       "  304.0 351.2432083 61.7219721 ... 0.020136353  -1.055515044634115 0.017630676\n",
       "  310.0 351.0558943 61.7206124 ... 0.024138188 -1.0457233864027025 0.022414934\n",
       "  335.0 351.2820431 61.7107736 ... 0.015166311  -1.296511724319572 0.013329832\n",
       "    ...         ...        ... ...         ...                 ...         ...\n",
       " 1834.0 351.0454626 61.3932534 ... 0.017818207 -1.1821463586847083 0.015914153\n",
       " 1835.0 350.9694818 61.4029372 ... 0.015518773 -1.1863000722742907 0.014334914\n",
       " 1862.0 350.9344812 61.4357838 ...   0.0129343 -0.9917475940733784 0.011913075\n",
       " 1878.0 351.0576751 61.4063961 ... 0.017243782 -1.1593666037924515 0.015974792\n",
       " 1897.0 351.3025675 61.4198763 ... 0.017672477  -1.373716462799469  0.01587165\n",
       " 1910.0 350.9415864 61.4209635 ... 0.019683179  -1.256616199559404 0.018310662\n",
       " 1931.0 351.1714931 61.4440155 ... 0.015182633 -1.1622230783023615 0.014495365\n",
       " 1933.0 351.3834216 61.4292011 ...  0.01803668 -1.1959750893500036 0.015828477\n",
       " 1952.0 351.1930843 61.4376684 ... 0.013917685 -1.1732445325667935 0.013083515\n",
       " 1978.0 350.9990066 61.4518107 ...  0.01913763 -1.2129767933947573 0.017594568"
      ]
     },
     "execution_count": 613,
     "metadata": {},
     "output_type": "execute_result"
    }
   ],
   "source": [
    "M52_tab"
   ]
  },
  {
   "cell_type": "code",
   "execution_count": 614,
   "metadata": {},
   "outputs": [],
   "source": [
    "# cut table into columns we need\n",
    "M52_cut = M52_tab['V', 'V_err', 'B_err', 'U_err', 'B-V', 'U-B']"
   ]
  },
  {
   "cell_type": "code",
   "execution_count": 616,
   "metadata": {
    "scrolled": true
   },
   "outputs": [
    {
     "name": "stdout",
     "output_type": "stream",
     "text": [
      "248\n"
     ]
    },
    {
     "data": {
      "image/png": "[encoded data removed]",
      "text/plain": [
       "<Figure size 432x288 with 1 Axes>"
      ]
     },
     "metadata": {
      "needs_background": "light"
     },
     "output_type": "display_data"
    }
   ],
   "source": [
    "# look at initial plot\n",
    "fig, ax = plt.subplots()\n",
    "\n",
    "ax.scatter(ms_tab['B-V'], ms_tab['U-B'], color='red', s=9)\n",
    "ax.scatter(M52_cut['B-V'], M52_cut['U-B'], color='green', s=9)\n",
    "\n",
    "\n",
    "# ax.invert_xaxis()\n",
    "ax.invert_yaxis()\n",
    "ax.set_xlabel('B-V Colour')\n",
    "ax.set_ylabel('U-B Colour')\n",
    "print(len(M52_cut))"
   ]
  },
  {
   "cell_type": "code",
   "execution_count": 623,
   "metadata": {},
   "outputs": [],
   "source": [
    "# Cut outlier stars from M52 table\n",
    "\n",
    "i = 0 \n",
    "while i in range(len(M52_cut)-1):\n",
    "    \n",
    "    if M52_cut['B-V'][i] < 0.45:\n",
    "        M52_cut.remove_row(i)\n",
    "        i+=1\n",
    "    else:\n",
    "        i+=1\n",
    "        continue\n",
    "k = 0\n",
    "\n",
    "while k in range(len(M52_cut)-1):\n",
    "    if M52_cut['B-V'][k] > 0.8:\n",
    "        M52_cut.remove_row(k)\n",
    "        k+=1\n",
    "    else:\n",
    "        k+=1\n",
    "        continue\n",
    "\n",
    "j = 0\n",
    "\n",
    "while j in range(len(M52_cut)-1):\n",
    "    if M52_cut['U-B'][j] > 0.8:\n",
    "        M52_cut.remove_row(j)\n",
    "        j+=1\n",
    "    else:\n",
    "        j+=1\n",
    "        continue\n",
    "\n",
    "h = 0\n",
    "        \n",
    "while h in range(len(M52_cut)):\n",
    "    if M52_cut['U-B'][h] < 0.0:\n",
    "        M52_cut.remove_row(h) \n",
    "        h+=1\n",
    "    else:\n",
    "        h+=1\n",
    "        continue"
   ]
  },
  {
   "cell_type": "code",
   "execution_count": 624,
   "metadata": {},
   "outputs": [
    {
     "data": {
      "text/plain": [
       "Text(0, 0.5, 'U-B Colour')"
      ]
     },
     "execution_count": 624,
     "metadata": {},
     "output_type": "execute_result"
    },
    {
     "data": {
      "image/png": "[encoded data removed]",
      "text/plain": [
       "<Figure size 432x288 with 1 Axes>"
      ]
     },
     "metadata": {
      "needs_background": "light"
     },
     "output_type": "display_data"
    }
   ],
   "source": [
    "fig, ax = plt.subplots()\n",
    "\n",
    "ax.scatter(ms_tab['B-V'], ms_tab['U-B'], color='blue', label = 'Fitzgerald (1970)', s=9, alpha =0.5)\n",
    "ax.scatter(M52_cut['B-V'], M52_cut['U-B'], color='crimson', label= 'M52', s=9, alpha = 0.3)\n",
    "\n",
    "plt.legend(fontsize=11)\n",
    "\n",
    "\n",
    "ax.invert_yaxis()\n",
    "ax.set_xlabel('B-V Colour', fontsize=13)\n",
    "ax.set_ylabel('U-B Colour', fontsize=13)"
   ]
  },
  {
   "cell_type": "code",
   "execution_count": 625,
   "metadata": {},
   "outputs": [
    {
     "data": {
      "text/plain": [
       "160"
      ]
     },
     "execution_count": 625,
     "metadata": {},
     "output_type": "execute_result"
    }
   ],
   "source": [
    "# check number of members \n",
    "len(M52_cut)"
   ]
  },
  {
   "cell_type": "code",
   "execution_count": 626,
   "metadata": {},
   "outputs": [
    {
     "name": "stdout",
     "output_type": "stream",
     "text": [
      "160\n"
     ]
    },
    {
     "data": {
      "text/plain": [
       "Text(0.5, 1.0, 'Minimum Chi-square: M52')"
      ]
     },
     "execution_count": 626,
     "metadata": {},
     "output_type": "execute_result"
    },
    {
     "data": {
      "image/png": "[encoded data removed]",
      "text/plain": [
       "<Figure size 432x288 with 1 Axes>"
      ]
     },
     "metadata": {
      "needs_background": "light"
     },
     "output_type": "display_data"
    }
   ],
   "source": [
    "# want to find the closest distance between the curve and star\n",
    "N_m52 = len(M52_cut)\n",
    "\n",
    "# set up an array of cluster star xy positions\n",
    "cluster_pos = np.ones((N_m52, 2))\n",
    "\n",
    "for i in range(N_m52):\n",
    "    xy = np.array([M52_cut['B-V'][i], M52_cut['U-B'][i]])\n",
    "    cluster_pos[i] *= xy\n",
    "\n",
    "# set up an array of main sequence star xy positions\n",
    "ms_pos = np.ones((N, 2))\n",
    "\n",
    "for i in range(N):\n",
    "    xy = np.array([ms_tab['B-V'][i], ms_tab['U-B'][i]])\n",
    "    ms_pos[i] *= xy\n",
    "\n",
    "\n",
    "# loop through A_v values \n",
    "A_range = np.arange(1.0, 3.0, 0.01)\n",
    "\n",
    "# create empty areay for chisquare min values\n",
    "\n",
    "chisq_true = np.array([])\n",
    "# create empty array for min distance between all MS stars and all cluster stars\n",
    "cluster_min = np.ones(N_m52)\n",
    "\n",
    "for val in A_range:\n",
    "    A_v = val\n",
    "    \n",
    "    # create new empty array for chisq minima\n",
    "    chisq_mins = np.array([])\n",
    "    \n",
    "    # define empty array for new cluster positions\n",
    "    star_arr = np.ones((N_m52, 2))\n",
    "    \n",
    "    for j in range(N_m52):\n",
    "        \n",
    "        x = cluster_pos[j][0]\n",
    "        y = cluster_pos[j][1]\n",
    "        \n",
    "        # find shift in star position according to A_v\n",
    "        dx = A_v / card\n",
    "        dy = card_ratio * dx \n",
    "    \n",
    "        # new star position\n",
    "        x_new = x - dx\n",
    "        y_new = y - dy \n",
    "\n",
    "        # add new coords to array\n",
    "        xy_new = np.array([x_new, y_new])\n",
    "        star_arr[j] *= xy_new\n",
    "\n",
    "        # find the length of cluster star to each MS star [x, y]\n",
    "        r_arr = np.ones((N, 2))\n",
    "\n",
    "        for k in range(N):\n",
    "            r = star_arr[j] - ms_pos[k]\n",
    "            r_arr[k] *= r\n",
    "\n",
    "        # work out hypotenuse of xy coordinates [r]\n",
    "        h_arr = np.ones((N))\n",
    "\n",
    "        for f in range(N):\n",
    "            h_sq = r_arr[f][0]**2 + r_arr[f][1]**2\n",
    "            h = h_sq ** (1/2)\n",
    "            h_arr[f] *= h\n",
    "        \n",
    "        # add the minimum distance to array \n",
    "        cluster_min[j] *= np.min(h_arr)\n",
    "        \n",
    "        # create array for storage of chisquare values\n",
    "        chisq_arr = np.ones(N)\n",
    "\n",
    "        # chisquare test for new position\n",
    "        for q in range(N):\n",
    "            chisq = (r_arr[q][0]**2)/(M52_cut['B_err'][q]**2+M52_cut['V_err'][q]**2) + (r_arr[q][1]**2)/(M52_cut['U_err'][q]**2+M52_cut['V_err'][q]**2)\n",
    "            chisq_arr[q] *= chisq\n",
    "            \n",
    "\n",
    "        #select minima of chisquare arrays and append to empty array \n",
    "        chisq_min = np.min(chisq_arr)\n",
    "        chisq_mins = np.append(chisq_mins, chisq_min)  \n",
    "#         print('Chi_min {0}: {1}'.format(A_v, chisq_min))\n",
    "     \n",
    "    \n",
    "    # sum the minima for each star in the cluster at a given A_v value then append to array for plotting\n",
    "    chisq_sums = np.sum(chisq_mins)\n",
    "    chisq_true = np.append(chisq_true, chisq_sums)\n",
    "\n",
    "    # plot MS with new star positions for this A_v value\n",
    "\n",
    "\n",
    "#     fig, ax = plt.subplots()\n",
    "\n",
    "#     for pos in star_arr:\n",
    "#         ax.scatter(pos[0], pos[1], color='crimson', label = 'M52', s=9, alpha=0.3)\n",
    "#     ax.scatter(ms_tab['B-V'], ms_tab['U-B'], color='blue', label = 'Fitzgerald (1970)', s=9, alpha=0.5)\n",
    "#     ax.invert_yaxis()\n",
    "#     ax.set_xlabel('B-V Colour', fontsize=13)\n",
    "#     ax.set_ylabel('U-B Colour', fontsize=13)\n",
    "# #     ax.set_xlim(-0.5, 2.0)\n",
    "# #     ax.set_ylim(2.5, -2)\n",
    "#     print('A_v: {0}'.format(A_v))\n",
    "\n",
    "ig, ax = plt.subplots()\n",
    "ax.scatter(A_range, chisq_true, color = 'seagreen', s=2)\n",
    "ax.set_xlabel('A_v', fontsize=13)\n",
    "ax.set_ylabel('Chi-square')\n",
    "# ax.set_title('Minimum Chi-square: NGC 6939')\n",
    "ax.set_title('Minimum Chi-square: M52')\n",
    "\n"
   ]
  },
  {
   "cell_type": "code",
   "execution_count": 630,
   "metadata": {},
   "outputs": [
    {
     "name": "stdout",
     "output_type": "stream",
     "text": [
      "[2.15]\n",
      "37.98495916939157\n",
      "34.98495916939157\n"
     ]
    },
    {
     "data": {
      "text/plain": [
       "<matplotlib.legend.Legend at 0x1240d76d0>"
      ]
     },
     "execution_count": 630,
     "metadata": {},
     "output_type": "execute_result"
    },
    {
     "data": {
      "image/png": "[encoded data removed]",
      "text/plain": [
       "<Figure size 432x288 with 1 Axes>"
      ]
     },
     "metadata": {
      "needs_background": "light"
     },
     "output_type": "display_data"
    }
   ],
   "source": [
    "#find exact A_v for minimum chisq\n",
    "print(A_range[np.where(chisq_true == np.min(chisq_true))])\n",
    "\n",
    "\n",
    "#determine confidence in A_v to one/two sigma \n",
    "\n",
    "one_sig = np.min(chisq_true) + 1\n",
    "two_sig = np.min(chisq_true) + 4 \n",
    "print(two_sig)\n",
    "print(one_sig)\n",
    "\n",
    "\n",
    "fig, ax = plt.subplots()\n",
    "\n",
    "ax.scatter(A_range, chisq_true, color = 'seagreen', label= 'M52 $\\chi^2$ Minima', s=4, alpha=0.7)\n",
    "# plt.axhline(y=two_sig, color ='crimson',  label = 'Two sigma', alpha = 0.7)\n",
    "plt.axhline(y=one_sig, color ='blue', label = '$1\\sigma$ error', alpha = 0.7)\n",
    "ax.set_xlabel('$A_v$', fontsize=13)\n",
    "ax.set_ylabel('$\\chi^2$', fontsize=13)\n",
    "\n",
    "\n",
    "# ax.set_xlim(1.8, 2.5)\n",
    "plt.legend(fontsize=11)\n",
    "\n"
   ]
  }
 ],
 "metadata": {
  "kernelspec": {
   "display_name": "Python 3",
   "language": "python",
   "name": "python3"
  },
  "language_info": {
   "codemirror_mode": {
    "name": "ipython",
    "version": 3
   },
   "file_extension": ".py",
   "mimetype": "text/x-python",
   "name": "python",
   "nbconvert_exporter": "python",
   "pygments_lexer": "ipython3",
   "version": "3.8.3"
  }
 },
 "nbformat": 4,
 "nbformat_minor": 4
}
